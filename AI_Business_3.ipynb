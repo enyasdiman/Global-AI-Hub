{
  "cells": [
    {
      "cell_type": "markdown",
      "metadata": {
        "id": "15177c1c"
      },
      "source": [
        "#Chapter 3: Data cleaning exercise\n",
        "\n",
        "### Sales department performance analysis\n",
        "\n",
        "The HR department wants to analyze the performance of the employees in the sales department.\n",
        "\n",
        "### Data Reading\n",
        "Rachel wrote a text file employee_revenue.txt including all necessary information, but she needs help to extract the necessary information.\n",
        "\n",
        "Start by uploading the employee_revenue file to the working directory.\n",
        "\n",
        "📌 Use the .read() method to open the text file in read mode and assign it to the variable \"data\".\n"
      ],
      "id": "15177c1c"
    },
    {
      "cell_type": "code",
      "execution_count": 3,
      "metadata": {
        "id": "da79a8da"
      },
      "outputs": [],
      "source": [
        "#Open the file in read mode\n",
        "file = open(\"/content/employee_revenue.txt\", \"r\")\n",
        "data = file.read()"
      ],
      "id": "da79a8da"
    },
    {
      "cell_type": "code",
      "execution_count": 4,
      "metadata": {
        "id": "75a5de52",
        "colab": {
          "base_uri": "https://localhost:8080/"
        },
        "outputId": "2a36e237-7b50-4d2a-ed88-927d0dcd6827"
      },
      "outputs": [
        {
          "output_type": "stream",
          "name": "stdout",
          "text": [
            "  Ben made 300 calls and generated 2400 dollars last Month with an 8$ average deal size.  \n",
            "omer called 10 times and Sold 2 courses generated 60 dollars last month with a 6$ average deal size.\n",
            "   KAren called 500 people and achieved success by GETting 24$ average deal size, got 12000 dollars revenue.     \n",
            "Celine with 70 calls, made 2275 dollars and 32$ average deal size IN the previous month.  \n",
            "     Sue called 100 people and earned 500 Dollars in REvenue and an AVERAGE DEAL SIZE of 5$ Last month.\n",
            "Bora called 100 people generated 770 dollars last month, his average deal size was 25$.  \n",
            "Rose made 600 phone calls and GENERATING 4000 dollars a past month 25$ average deal SIZE. \n",
            "Ellen made 800 calls and generated 6000 dollars a prior mONTH and reached 40$ the average deal size. \n",
            " bob made 200 phone calls, helped to make a proGress and generated 800 dollars LAST MONTH and gaining 15$ average deal size.\n",
            "Taylor, with 450 calls generated 1200 dollars in revenue pASt month, and the average deal size was 10$. \n",
            "  JuDE made 80 calls and earned 500 dollars for the company last month, her average deal size was 12$.\n",
            "\n"
          ]
        }
      ],
      "source": [
        "#Print the data\n",
        "print(data)"
      ],
      "id": "75a5de52"
    },
    {
      "cell_type": "markdown",
      "metadata": {
        "id": "33d4f7ef"
      },
      "source": [
        "### Data Cleaning\n",
        "\n",
        "You can see that the data needs to be cleaned and information has to be extracted from these lines. \n",
        "\n",
        "To be able to clean the data, you need to separate the text into lines.\n",
        "\n",
        "📌 Use the .splitlines() method."
      ],
      "id": "33d4f7ef"
    },
    {
      "cell_type": "code",
      "execution_count": 5,
      "metadata": {
        "id": "9a1a651d",
        "colab": {
          "base_uri": "https://localhost:8080/"
        },
        "outputId": "ac22527d-ac86-4a7c-8893-d0da22578646"
      },
      "outputs": [
        {
          "output_type": "stream",
          "name": "stdout",
          "text": [
            "['  Ben made 300 calls and generated 2400 dollars last Month with an 8$ average deal size.  ', 'omer called 10 times and Sold 2 courses generated 60 dollars last month with a 6$ average deal size.', '   KAren called 500 people and achieved success by GETting 24$ average deal size, got 12000 dollars revenue.     ', 'Celine with 70 calls, made 2275 dollars and 32$ average deal size IN the previous month.  ', '     Sue called 100 people and earned 500 Dollars in REvenue and an AVERAGE DEAL SIZE of 5$ Last month.', 'Bora called 100 people generated 770 dollars last month, his average deal size was 25$.  ', 'Rose made 600 phone calls and GENERATING 4000 dollars a past month 25$ average deal SIZE. ', 'Ellen made 800 calls and generated 6000 dollars a prior mONTH and reached 40$ the average deal size. ', ' bob made 200 phone calls, helped to make a proGress and generated 800 dollars LAST MONTH and gaining 15$ average deal size.', 'Taylor, with 450 calls generated 1200 dollars in revenue pASt month, and the average deal size was 10$. ', '  JuDE made 80 calls and earned 500 dollars for the company last month, her average deal size was 12$.']\n"
          ]
        }
      ],
      "source": [
        "#Seperate the data into lines\n",
        "lines = data.splitlines()\n",
        "print(lines)"
      ],
      "id": "9a1a651d"
    },
    {
      "cell_type": "markdown",
      "metadata": {
        "id": "CKkeig2poz7w"
      },
      "source": [
        "### Clean the data line by line\n",
        "\n",
        "Start to clean the data for the first line.\n",
        "\n",
        "📌 Use the .strip() method to remove the whitespaces from the edges of the string."
      ],
      "id": "CKkeig2poz7w"
    },
    {
      "cell_type": "code",
      "execution_count": 6,
      "metadata": {
        "id": "2332622c",
        "colab": {
          "base_uri": "https://localhost:8080/"
        },
        "outputId": "476e4875-c219-48d5-f050-7cfe896726c7"
      },
      "outputs": [
        {
          "output_type": "stream",
          "name": "stdout",
          "text": [
            "  Ben made 300 calls and generated 2400 dollars last Month with an 8$ average deal size.  \n"
          ]
        }
      ],
      "source": [
        "#Take the first line\n",
        "string = lines[0]\n",
        "print(string)"
      ],
      "id": "2332622c"
    },
    {
      "cell_type": "code",
      "execution_count": 7,
      "metadata": {
        "id": "26219c0d",
        "colab": {
          "base_uri": "https://localhost:8080/"
        },
        "outputId": "b379ccbd-e0dc-4ae9-a23a-4f644acc6a3e"
      },
      "outputs": [
        {
          "output_type": "stream",
          "name": "stdout",
          "text": [
            "Ben made 300 calls and generated 2400 dollars last Month with an 8$ average deal size.\n"
          ]
        }
      ],
      "source": [
        "#Remove the whitespaces from the edges\n",
        "string = string.strip(\" \")\n",
        "print(string)"
      ],
      "id": "26219c0d"
    },
    {
      "cell_type": "markdown",
      "metadata": {
        "id": "ed90bfc6"
      },
      "source": [
        "Next, you need to fix the capitalization issues.\n",
        "\n",
        "📌 Use the .lower() method to convert the text to lowercase.\n",
        "\n",
        "📌 Then use the .capitalize() method to capitalize the first letter."
      ],
      "id": "ed90bfc6"
    },
    {
      "cell_type": "code",
      "execution_count": 9,
      "metadata": {
        "id": "ef8bca74",
        "colab": {
          "base_uri": "https://localhost:8080/",
          "height": 36
        },
        "outputId": "fccc7e26-f82a-4c88-fc0d-54bdb5c3506b"
      },
      "outputs": [
        {
          "output_type": "execute_result",
          "data": {
            "text/plain": [
              "'ben made 300 calls and generated 2400 dollars last month with an 8$ average deal size.'"
            ],
            "application/vnd.google.colaboratory.intrinsic+json": {
              "type": "string"
            }
          },
          "metadata": {},
          "execution_count": 9
        }
      ],
      "source": [
        "#Convert the string to lowercase\n",
        "string = string.lower()\n",
        "string"
      ],
      "id": "ef8bca74"
    },
    {
      "cell_type": "code",
      "execution_count": 10,
      "metadata": {
        "id": "d4be9443",
        "colab": {
          "base_uri": "https://localhost:8080/",
          "height": 36
        },
        "outputId": "8e4d6c95-ce6b-4cf8-b2eb-4ccd3ae87f46"
      },
      "outputs": [
        {
          "output_type": "execute_result",
          "data": {
            "text/plain": [
              "'Ben made 300 calls and generated 2400 dollars last month with an 8$ average deal size.'"
            ],
            "application/vnd.google.colaboratory.intrinsic+json": {
              "type": "string"
            }
          },
          "metadata": {},
          "execution_count": 10
        }
      ],
      "source": [
        "#Capitalize the first character\n",
        "string = string.capitalize()\n",
        "string"
      ],
      "id": "d4be9443"
    },
    {
      "cell_type": "markdown",
      "metadata": {
        "id": "f89b01c4"
      },
      "source": [
        "### Information Extraction\n",
        "\n",
        "To extract the information, you need to split the sentence into words. \n",
        "\n",
        "📌 Use the .split() method.\n"
      ],
      "id": "f89b01c4"
    },
    {
      "cell_type": "code",
      "execution_count": 11,
      "metadata": {
        "id": "04ede2fd",
        "colab": {
          "base_uri": "https://localhost:8080/"
        },
        "outputId": "2b2d89f6-004a-4e1a-ce2a-dac98ce3ab6c"
      },
      "outputs": [
        {
          "output_type": "execute_result",
          "data": {
            "text/plain": [
              "['Ben',\n",
              " 'made',\n",
              " '300',\n",
              " 'calls',\n",
              " 'and',\n",
              " 'generated',\n",
              " '2400',\n",
              " 'dollars',\n",
              " 'last',\n",
              " 'month',\n",
              " 'with',\n",
              " 'an',\n",
              " '8$',\n",
              " 'average',\n",
              " 'deal',\n",
              " 'size.']"
            ]
          },
          "metadata": {},
          "execution_count": 11
        }
      ],
      "source": [
        "#Split the sentece into words\n",
        "split_string = string.split(\" \")\n",
        "split_string"
      ],
      "id": "04ede2fd"
    },
    {
      "cell_type": "markdown",
      "metadata": {
        "id": "9138eb5b"
      },
      "source": [
        "You might noticed that the first element in the list is the name and the third element is the number of calls.\n",
        "\n",
        "📌 Use the indeces to extract the name and number of calls."
      ],
      "id": "9138eb5b"
    },
    {
      "cell_type": "code",
      "execution_count": 12,
      "metadata": {
        "id": "897c59e5",
        "colab": {
          "base_uri": "https://localhost:8080/",
          "height": 36
        },
        "outputId": "68260545-c383-499f-8427-0d46fe9c8e33"
      },
      "outputs": [
        {
          "output_type": "execute_result",
          "data": {
            "text/plain": [
              "'Ben'"
            ],
            "application/vnd.google.colaboratory.intrinsic+json": {
              "type": "string"
            }
          },
          "metadata": {},
          "execution_count": 12
        }
      ],
      "source": [
        "#Use the index 0 to access the name element\n",
        "name = split_string[0]\n",
        "name"
      ],
      "id": "897c59e5"
    },
    {
      "cell_type": "code",
      "execution_count": 15,
      "metadata": {
        "id": "98103332",
        "colab": {
          "base_uri": "https://localhost:8080/",
          "height": 36
        },
        "outputId": "3cf70422-d03b-4df7-e669-7bda525784b7"
      },
      "outputs": [
        {
          "output_type": "execute_result",
          "data": {
            "text/plain": [
              "'300'"
            ],
            "application/vnd.google.colaboratory.intrinsic+json": {
              "type": "string"
            }
          },
          "metadata": {},
          "execution_count": 15
        }
      ],
      "source": [
        "#Use the index 2 to access the number of calls element\n",
        "call_number = split_string[2]\n",
        "call_number "
      ],
      "id": "98103332"
    },
    {
      "cell_type": "markdown",
      "metadata": {
        "id": "etif7Kb3tEUC"
      },
      "source": [
        "So far so good!\n",
        "\n",
        "But as you can see the sentence order is not the same after the 7th element.\n",
        "\n",
        "To extract the average deal size you need to come up with a different approach. You can use the \"$\" sign to find the corresponding element.\n",
        "\n",
        "📌 Loop over the list to find the element that includes the \"$\" sign.\n",
        "\n",
        "📌 Then, use the .split() method to divide the string into the number and the $ sign."
      ],
      "id": "etif7Kb3tEUC"
    },
    {
      "cell_type": "code",
      "execution_count": 16,
      "metadata": {
        "id": "443a9ddf",
        "colab": {
          "base_uri": "https://localhost:8080/",
          "height": 36
        },
        "outputId": "4176dbf5-bc22-420d-8f5f-a1be6b418b30"
      },
      "outputs": [
        {
          "output_type": "execute_result",
          "data": {
            "text/plain": [
              "'8'"
            ],
            "application/vnd.google.colaboratory.intrinsic+json": {
              "type": "string"
            }
          },
          "metadata": {},
          "execution_count": 16
        }
      ],
      "source": [
        "#Find the element with the \"$\" sign\n",
        "for i in split_string:\n",
        "#Divide the number from it\n",
        "  if \"$\" in i:\n",
        "    average_deal_size = i.split(\"$\")[0]\n",
        "#Print the average deal size\n",
        "average_deal_size"
      ],
      "id": "443a9ddf"
    },
    {
      "cell_type": "markdown",
      "metadata": {
        "id": "1332df7e"
      },
      "source": [
        "Similarly, we can use the string \"dollars\" to extract the revenue, which is the element right before \"dollars\".\n",
        "\n",
        "📌 Use the .index() method to identify the index for the \"dollars\" element.\n",
        "\n",
        "📌 Then, use this index to specify and extract the revenue."
      ],
      "id": "1332df7e"
    },
    {
      "cell_type": "code",
      "execution_count": 18,
      "metadata": {
        "id": "a00945b0",
        "colab": {
          "base_uri": "https://localhost:8080/"
        },
        "outputId": "012b6faa-8f41-4be8-ded0-b118527f0a28"
      },
      "outputs": [
        {
          "output_type": "execute_result",
          "data": {
            "text/plain": [
              "7"
            ]
          },
          "metadata": {},
          "execution_count": 18
        }
      ],
      "source": [
        "#Find the index of element \"dollars\"\n",
        "dollars_index = split_string.index(\"dollars\")\n",
        "dollars_index"
      ],
      "id": "a00945b0"
    },
    {
      "cell_type": "code",
      "execution_count": 19,
      "metadata": {
        "id": "c663bd03",
        "colab": {
          "base_uri": "https://localhost:8080/"
        },
        "outputId": "1174571b-e47d-479b-9f81-230dd5c1badd"
      },
      "outputs": [
        {
          "output_type": "execute_result",
          "data": {
            "text/plain": [
              "6"
            ]
          },
          "metadata": {},
          "execution_count": 19
        }
      ],
      "source": [
        "#Subtract one from the index to identify the index of the revenue element\n",
        "revenue_index = dollars_index - 1\n",
        "revenue_index"
      ],
      "id": "c663bd03"
    },
    {
      "cell_type": "code",
      "execution_count": 20,
      "metadata": {
        "id": "2831e072",
        "colab": {
          "base_uri": "https://localhost:8080/",
          "height": 36
        },
        "outputId": "7da5774e-ba9e-4640-93b4-7043f1e11de5"
      },
      "outputs": [
        {
          "output_type": "execute_result",
          "data": {
            "text/plain": [
              "'2400'"
            ],
            "application/vnd.google.colaboratory.intrinsic+json": {
              "type": "string"
            }
          },
          "metadata": {},
          "execution_count": 20
        }
      ],
      "source": [
        "#Extract the revenue\n",
        "revenue = split_string[revenue_index]\n",
        "revenue"
      ],
      "id": "2831e072"
    },
    {
      "cell_type": "markdown",
      "metadata": {
        "id": "537ed4c2"
      },
      "source": [
        "Great! You extracted all necessary information.\n",
        "\n",
        "📌 Print the information and check the types of the data."
      ],
      "id": "537ed4c2"
    },
    {
      "cell_type": "code",
      "execution_count": 21,
      "metadata": {
        "id": "ace2c99f",
        "colab": {
          "base_uri": "https://localhost:8080/"
        },
        "outputId": "1d0be581-efd9-488b-8b0e-d55167b8dd7a"
      },
      "outputs": [
        {
          "output_type": "stream",
          "name": "stdout",
          "text": [
            "Name: Ben\n",
            "Number of calls 300\n",
            "Average deal size: 8\n",
            "Revenue: 2400\n"
          ]
        }
      ],
      "source": [
        "#Print out the extracted information\n",
        "print(\"Name:\", name)\n",
        "print(\"Number of calls\", call_number)\n",
        "print(\"Average deal size:\", average_deal_size)\n",
        "print(\"Revenue:\", revenue)"
      ],
      "id": "ace2c99f"
    },
    {
      "cell_type": "code",
      "execution_count": 23,
      "metadata": {
        "id": "SwAyLOAInasY",
        "colab": {
          "base_uri": "https://localhost:8080/"
        },
        "outputId": "df98db7f-4e64-4c32-c3c5-e3077a2ebf4a"
      },
      "outputs": [
        {
          "output_type": "stream",
          "name": "stdout",
          "text": [
            "Name type: <class 'str'>\n",
            "Number of calls type: <class 'str'>\n",
            "Average deal size type: <class 'str'>\n",
            "Revenue type: <class 'str'>\n"
          ]
        }
      ],
      "source": [
        "#Check the types\n",
        "print(\"Name type:\", type(name))\n",
        "print(\"Number of calls type:\", type(call_number))\n",
        "print(\"Average deal size type:\", type(average_deal_size))\n",
        "print(\"Revenue type:\", type(revenue))"
      ],
      "id": "SwAyLOAInasY"
    },
    {
      "cell_type": "markdown",
      "metadata": {
        "id": "08f5b5fd"
      },
      "source": [
        "As you can see, we have the type string for all the data, but the average deal size, number of calls, and the revenue need to be integers. \n",
        "\n",
        "📌 Convert the data using the int() function and check again."
      ],
      "id": "08f5b5fd"
    },
    {
      "cell_type": "code",
      "execution_count": 24,
      "metadata": {
        "id": "5f42e3f0"
      },
      "outputs": [],
      "source": [
        "#Convert the datatypes of average deal size, number of calls, and revenue\n",
        "average_deal_size = int(average_deal_size)\n",
        "call_number = int(call_number)\n",
        "revenue = int(revenue)"
      ],
      "id": "5f42e3f0"
    },
    {
      "cell_type": "code",
      "execution_count": 25,
      "metadata": {
        "id": "89dc6fa1",
        "colab": {
          "base_uri": "https://localhost:8080/"
        },
        "outputId": "2dfeb940-7185-4c73-8e7b-1223b4fe7c59"
      },
      "outputs": [
        {
          "output_type": "stream",
          "name": "stdout",
          "text": [
            "Name type: <class 'str'>\n",
            "Number of calls type: <class 'int'>\n",
            "Average deal size type: <class 'int'>\n",
            "Revenue type: <class 'int'>\n"
          ]
        }
      ],
      "source": [
        "#Print out the information again\n",
        "print(\"Name type:\", type(name))\n",
        "print(\"Number of calls type:\", type(call_number))\n",
        "print(\"Average deal size type:\", type(average_deal_size))\n",
        "print(\"Revenue type:\", type(revenue))"
      ],
      "id": "89dc6fa1"
    },
    {
      "cell_type": "markdown",
      "metadata": {
        "id": "0b194713"
      },
      "source": [
        "Now, you need to apply all the methods and functions to the list that contains the different strings of all employees.\n",
        "\n",
        "📌 Create an empty lists for storing names, number of calls, average deal sizes, and revenues.\n",
        "\n",
        "📌 Use a for loop to iterate through the list with the whole data.\n",
        "\n",
        "📌 Print out the necessary information."
      ],
      "id": "0b194713"
    },
    {
      "cell_type": "code",
      "execution_count": 33,
      "metadata": {
        "id": "5a4aab7e"
      },
      "outputs": [],
      "source": [
        "#Create empty lists for the names, number of calls, average deal sizes, revenues\n",
        "names = []\n",
        "call_numbers = []\n",
        "average_deal_sizes = []\n",
        "revenues = []"
      ],
      "id": "5a4aab7e"
    },
    {
      "cell_type": "code",
      "execution_count": 34,
      "metadata": {
        "id": "2366069b",
        "colab": {
          "base_uri": "https://localhost:8080/"
        },
        "outputId": "607ec371-b5fa-42cb-ebe4-e138ee0e5aea"
      },
      "outputs": [
        {
          "output_type": "stream",
          "name": "stdout",
          "text": [
            "Name type: Jude\n",
            "Number of calls type: [300, 10, 500, 70, 100, 100, 600, 800, 200, 450, 80]\n",
            "Average deal size type: 12\n",
            "Revenue type: 500\n"
          ]
        }
      ],
      "source": [
        "#Loop over the whole data\n",
        "for employee in lines:\n",
        "    #Clean the string\n",
        "    employee = employee.strip(\" \")\n",
        "    employee = employee.lower()\n",
        "    employee = employee.capitalize()\n",
        "\n",
        "    #Split the clean string\n",
        "    split_employee = employee.split(\" \")\n",
        "    \n",
        "    #Extract the name\n",
        "    name = split_employee[0]\n",
        "    call_number = split_employee[2]\n",
        "\n",
        "    #Extract the average deal size\n",
        "    for i in split_employee:\n",
        "      if \"$\" in i:\n",
        "        average_deal_size = i\n",
        "    average_deal_size = average_deal_size.split(\"$\")[0] \n",
        "\n",
        "    #Extract the revenue\n",
        "    dollars_index = split_employee.index(\"dollars\")\n",
        "    revenue_index = dollars_index - 1\n",
        "    revenue = split_employee[revenue_index]\n",
        "\n",
        "    #Convert to the correct data types\n",
        "    average_deal_size = int(average_deal_size)\n",
        "    call_number = int(call_number)\n",
        "    revenue = int(revenue)\n",
        "\n",
        "    #Append the information to the lists\n",
        "    names.append(name)\n",
        "    call_numbers.append(call_number)\n",
        "    average_deal_sizes.append(average_deal_size)\n",
        "    revenues.append(revenue)\n",
        "\n",
        "#Print out the information\n",
        "print(\"Name type:\", name)\n",
        "print(\"Number of calls type:\", call_numbers)\n",
        "print(\"Average deal size type:\", average_deal_size)\n",
        "print(\"Revenue type:\", revenue)"
      ],
      "id": "2366069b"
    },
    {
      "cell_type": "markdown",
      "metadata": {
        "id": "4d848787"
      },
      "source": [
        "Finally, you can make the process even easier and reusable by defining functions.\n",
        "\n",
        "📌 Define the function \"clean_extract\".\n",
        "\n",
        "📌 Use the retured values by assigning them to variables."
      ],
      "id": "4d848787"
    },
    {
      "cell_type": "code",
      "execution_count": 37,
      "metadata": {
        "id": "_ipfpGrirCs7"
      },
      "outputs": [],
      "source": [
        "#Create empty lists again\n",
        "def clean_extract(lines):\n",
        "\n",
        "  for employee in lines:\n",
        "    employee = employee.strip(\" \")\n",
        "    employee = employee.lower()\n",
        "    employee = employee.capitalize()\n",
        "\n",
        "    split_employee = employee.split(\" \")\n",
        "\n",
        "    name = split_employee[0]\n",
        "    call_number = split_employee[2]\n",
        "\n",
        "    for i in split_employee:\n",
        "      if \"$\" in i:\n",
        "        average_deal_size = i\n",
        "        average_deal_size = average_deal_size.split(\"$\")[0]\n",
        "\n",
        "    dollars_index = split_employee.index(\"dollars\")\n",
        "    revenue_index = dollars_index - 1\n",
        "    revenue = split_employee[revenue_index]\n",
        "\n",
        "    average_deal_size = int(average_deal_size)\n",
        "    call_number = int(call_number)\n",
        "    revenue = int(revenue)\n",
        "\n",
        "    names.append(name)\n",
        "    call_numbers.append(call_number)\n",
        "    average_deal_sizes.append(average_deal_size)\n",
        "    revenues.append(revenue)\n",
        "\n",
        "  return names, call_numbers, average_deal_sizes, revenues"
      ],
      "id": "_ipfpGrirCs7"
    },
    {
      "cell_type": "code",
      "execution_count": 38,
      "metadata": {
        "id": "13b0fe6b"
      },
      "outputs": [],
      "source": [
        "#Assign returned values to variables\n",
        "names, call_numbers, average_deal_sizes, revenues = clean_extract(lines)"
      ],
      "id": "13b0fe6b"
    },
    {
      "cell_type": "code",
      "execution_count": 39,
      "metadata": {
        "id": "44e38957",
        "colab": {
          "base_uri": "https://localhost:8080/"
        },
        "outputId": "3aaa5373-4987-41c6-8856-1cfef2de6f71"
      },
      "outputs": [
        {
          "output_type": "stream",
          "name": "stdout",
          "text": [
            "Name type: Jude\n",
            "Number of calls type: [300, 10, 500, 70, 100, 100, 600, 800, 200, 450, 80, 300, 10, 500, 70, 100, 100, 600, 800, 200, 450, 80]\n",
            "Average deal size type: 12\n",
            "Revenue type: 500\n"
          ]
        }
      ],
      "source": [
        "#Print out the information\n",
        "print(\"Name type:\", name)\n",
        "print(\"Number of calls type:\", call_numbers)\n",
        "print(\"Average deal size type:\", average_deal_size)\n",
        "print(\"Revenue type:\", revenue)"
      ],
      "id": "44e38957"
    },
    {
      "cell_type": "markdown",
      "metadata": {
        "id": "26efe652"
      },
      "source": [
        "### Performance Analysis Report\n",
        "\n",
        "Now that you cleaned the string and extracted all the information using the function, you can create performance analysis report for the last month.\n",
        "\n",
        "📌 Assign IDs to each employee.\n",
        "\n",
        "📌 Create dictionaries.\n",
        "\n",
        "📌 Sort the dictionaries.\n",
        "\n",
        "\n"
      ],
      "id": "26efe652"
    },
    {
      "cell_type": "markdown",
      "metadata": {
        "id": "ZT7mAK3M5k3W"
      },
      "source": [
        "First, check how many employees there are and assign the IDs.\n",
        "\n",
        "📌 Use the len() and range() function.\n"
      ],
      "id": "ZT7mAK3M5k3W"
    },
    {
      "cell_type": "code",
      "execution_count": 40,
      "metadata": {
        "id": "f20ff52f",
        "colab": {
          "base_uri": "https://localhost:8080/"
        },
        "outputId": "85ff91ea-63de-41ba-8f24-9c1b2ebcae6e"
      },
      "outputs": [
        {
          "output_type": "stream",
          "name": "stdout",
          "text": [
            "22\n"
          ]
        }
      ],
      "source": [
        "#Check the number of employees\n",
        "print(len(names))"
      ],
      "id": "f20ff52f"
    },
    {
      "cell_type": "code",
      "execution_count": 43,
      "metadata": {
        "id": "5c62caf8",
        "colab": {
          "base_uri": "https://localhost:8080/"
        },
        "outputId": "0b6e9cdb-c88f-47dc-bd5a-96f2efa02918"
      },
      "outputs": [
        {
          "output_type": "stream",
          "name": "stdout",
          "text": [
            "[0, 1, 2, 3, 4, 5, 6, 7, 8, 9, 10]\n"
          ]
        }
      ],
      "source": [
        "#Generate IDs\n",
        "IDs = list(range(0,11))\n",
        "print(IDs)"
      ],
      "id": "5c62caf8"
    },
    {
      "cell_type": "code",
      "execution_count": 44,
      "metadata": {
        "id": "28cd8ce6",
        "colab": {
          "base_uri": "https://localhost:8080/"
        },
        "outputId": "b327c2f7-521b-4d89-f575-51933c761eaf"
      },
      "outputs": [
        {
          "output_type": "execute_result",
          "data": {
            "text/plain": [
              "11"
            ]
          },
          "metadata": {},
          "execution_count": 44
        }
      ],
      "source": [
        "#Check the number of IDs\n",
        "len(IDs)"
      ],
      "id": "28cd8ce6"
    },
    {
      "cell_type": "markdown",
      "metadata": {
        "id": "NKP6Yoto6eqP"
      },
      "source": [
        "With the IDs ready, you need to assign the IDs to the employees.\n",
        "\n",
        "📌 Use the zip() function to pair the employee with the ID.\n",
        "\n",
        "📌 Convert the zip object into a dictionary."
      ],
      "id": "NKP6Yoto6eqP"
    },
    {
      "cell_type": "code",
      "execution_count": 45,
      "metadata": {
        "id": "7e56a43f",
        "colab": {
          "base_uri": "https://localhost:8080/"
        },
        "outputId": "66d704db-10b2-4906-8177-21f14d311a64"
      },
      "outputs": [
        {
          "output_type": "execute_result",
          "data": {
            "text/plain": [
              "{0: 'Ben',\n",
              " 1: 'Omer',\n",
              " 2: 'Karen',\n",
              " 3: 'Celine',\n",
              " 4: 'Sue',\n",
              " 5: 'Bora',\n",
              " 6: 'Rose',\n",
              " 7: 'Ellen',\n",
              " 8: 'Bob',\n",
              " 9: 'Taylor,',\n",
              " 10: 'Jude'}"
            ]
          },
          "metadata": {},
          "execution_count": 45
        }
      ],
      "source": [
        "#Pair the names with the IDs in a dictionary\n",
        "disctionary1 = dict(zip(IDs, names))\n",
        "disctionary1"
      ],
      "id": "7e56a43f"
    },
    {
      "cell_type": "markdown",
      "metadata": {
        "id": "429d7b7f"
      },
      "source": [
        "Similarly, create a dictionary for the  employees and their revenues."
      ],
      "id": "429d7b7f"
    },
    {
      "cell_type": "code",
      "execution_count": 47,
      "metadata": {
        "id": "aa2c6560",
        "colab": {
          "base_uri": "https://localhost:8080/"
        },
        "outputId": "e633e406-b98c-4ae1-d2af-c6dcc35defeb"
      },
      "outputs": [
        {
          "output_type": "execute_result",
          "data": {
            "text/plain": [
              "{60: 'Omer',\n",
              " 500: 'Jude',\n",
              " 770: 'Bora',\n",
              " 800: 'Bob',\n",
              " 1200: 'Taylor,',\n",
              " 2275: 'Celine',\n",
              " 2400: 'Ben',\n",
              " 4000: 'Rose',\n",
              " 6000: 'Ellen',\n",
              " 12000: 'Karen'}"
            ]
          },
          "metadata": {},
          "execution_count": 47
        }
      ],
      "source": [
        "#Pair the names with the revenues\n",
        "dictionary2 = dict(zip(revenues, names))\n",
        "dictionary2"
      ],
      "id": "aa2c6560"
    },
    {
      "cell_type": "markdown",
      "metadata": {
        "id": "Ou3ne5Vn76N_"
      },
      "source": [
        "Finally, you need to find the employees with the best and lowest performance.\n",
        "\n",
        "📌 Sort the dictionary using the sorted() function in ascending and descending order.\n"
      ],
      "id": "Ou3ne5Vn76N_"
    },
    {
      "cell_type": "code",
      "execution_count": 48,
      "metadata": {
        "id": "d348a929",
        "colab": {
          "base_uri": "https://localhost:8080/"
        },
        "outputId": "fa1da8a7-736e-45e0-dbc2-fde26e5fe67f"
      },
      "outputs": [
        {
          "output_type": "stream",
          "name": "stdout",
          "text": [
            "Omer\n",
            "Jude\n",
            "Bora\n"
          ]
        }
      ],
      "source": [
        "#Find the lowest performing employees (ascending order)\n",
        "sorted_dictionary = sorted(dictionary2)[0:3]\n",
        "for i in sorted_dictionary:\n",
        "  print(dictionary2[i])"
      ],
      "id": "d348a929"
    },
    {
      "cell_type": "code",
      "execution_count": 49,
      "metadata": {
        "id": "3210f1ad",
        "colab": {
          "base_uri": "https://localhost:8080/"
        },
        "outputId": "25b8ad7d-ab8b-4073-ff5d-50197dae456a"
      },
      "outputs": [
        {
          "output_type": "stream",
          "name": "stdout",
          "text": [
            "Karen\n",
            "Ellen\n",
            "Rose\n"
          ]
        }
      ],
      "source": [
        "#Find the best performing employees (descending order)\n",
        "sorted_dictionary = sorted(dictionary2, reverse = True)[0:3]\n",
        "\n",
        "for i in sorted_dictionary:\n",
        "  print(dictionary2[i])"
      ],
      "id": "3210f1ad"
    }
  ],
  "metadata": {
    "colab": {
      "collapsed_sections": [],
      "name": "AI-Business-3.ipynb",
      "provenance": []
    },
    "kernelspec": {
      "display_name": "Python 3",
      "language": "python",
      "name": "python3"
    },
    "language_info": {
      "codemirror_mode": {
        "name": "ipython",
        "version": 3
      },
      "file_extension": ".py",
      "mimetype": "text/x-python",
      "name": "python",
      "nbconvert_exporter": "python",
      "pygments_lexer": "ipython3",
      "version": "3.8.8"
    }
  },
  "nbformat": 4,
  "nbformat_minor": 5
}