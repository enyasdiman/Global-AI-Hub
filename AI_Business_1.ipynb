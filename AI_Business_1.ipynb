{
  "cells": [
    {
      "cell_type": "markdown",
      "metadata": {
        "id": "VMuUK0ap_bRD"
      },
      "source": [
        "# Chapter 1\n",
        "### Your first day at your new job 👩‍💻👨‍💻\n",
        "\n",
        "You are starting a new job as a junior software developer in an IT company. \n",
        "\n",
        "The company’s HR department asks you to fill out a form, so you start by assigning your personal information to corresponding variables.\n",
        "\n",
        "📌 Create a variable for your name, surname, age, ID number, place of residence, to specify if you have active health insurance or not, and lastly one for specifying your nationality.\n"
      ]
    },
    {
      "cell_type": "code",
      "execution_count": null,
      "metadata": {
        "id": "OPLhhc2Sp-D0"
      },
      "outputs": [],
      "source": [
        "#Please assign your personal information to variables\n",
        "my_name = \"Eda Nur\"\n",
        "my_surname = \"Yasdiman\"\n",
        "my_age = 22\n",
        "whereilive = \"Ankara\"\n",
        "health = True"
      ]
    },
    {
      "cell_type": "markdown",
      "metadata": {
        "id": "3zaUlxwcp-D0"
      },
      "source": [
        "###Meet And Greet\n",
        "Introduce yourself to your new co-workers.\n",
        "\n",
        "📌 Use a f-string to print \"My name is Joey Tribbiani I am 25 years old and I live in London”."
      ]
    },
    {
      "cell_type": "code",
      "execution_count": null,
      "metadata": {
        "colab": {
          "base_uri": "https://localhost:8080/"
        },
        "id": "XNuh5_2WXwvg",
        "outputId": "abb61336-53c5-4e5d-87d0-19dd45d69e50"
      },
      "outputs": [
        {
          "name": "stdout",
          "output_type": "stream",
          "text": [
            "My name is Eda Nur Yasdiman. I am 22 years old, I live in Ankara.\n"
          ]
        }
      ],
      "source": [
        "#Write a sentence using the print function to describe yourself using the variables above in the correct data type\n",
        "print(f\"My name is {my_name} {my_surname}. I am {str(my_age)} years old, I live in {whereilive}.\")"
      ]
    },
    {
      "cell_type": "markdown",
      "metadata": {
        "id": "EEL9To4ip-D1"
      },
      "source": [
        "### Equipment starter pack\n",
        "The HR department asks you to list the items you would need to improve your work efficiency\n",
        "\n",
        "Mandatory:\n",
        "* Laptop\n",
        "* Headset\n",
        "* Second monitor\n",
        "\n",
        "Optional:\n",
        "* Mousepad\n",
        "* USB drive\n",
        "* External drive\n",
        "\n",
        "\n",
        "📌 Create a shopping list that contains items above and print it."
      ]
    },
    {
      "cell_type": "code",
      "execution_count": null,
      "metadata": {
        "id": "fPFBLDyqp-D2"
      },
      "outputs": [],
      "source": [
        "#Create the item_list\n",
        "item_list = ['laptop', 'headset', 'second monitor', 'mousepad', 'usb drive', 'external drive']"
      ]
    },
    {
      "cell_type": "code",
      "execution_count": null,
      "metadata": {
        "colab": {
          "base_uri": "https://localhost:8080/"
        },
        "id": "358R_CN5U2-J",
        "outputId": "378a8adc-c909-44ee-c94c-a273e240f151"
      },
      "outputs": [
        {
          "name": "stdout",
          "output_type": "stream",
          "text": [
            "['laptop', 'headset', 'second monitor', 'mousepad', 'usb drive', 'external drive']\n"
          ]
        }
      ],
      "source": [
        "#Print the list\n",
        "print(item_list)"
      ]
    },
    {
      "cell_type": "markdown",
      "metadata": {
        "id": "5keEWjCyp-D2"
      },
      "source": [
        "####What is mandatory and what is optional?\n",
        "\n",
        "📌 Use list slicing to devide your list in two list: 'mandatory_item_list' and 'optional_item_list' and print both to the screen."
      ]
    },
    {
      "cell_type": "code",
      "execution_count": null,
      "metadata": {
        "id": "E6ewuDYZp-D2"
      },
      "outputs": [],
      "source": [
        "#Use list slicing to divide the mandatory items\n",
        "mandatory_item_list = item_list[0:3]"
      ]
    },
    {
      "cell_type": "code",
      "execution_count": null,
      "metadata": {
        "id": "hOmkym01RGEL"
      },
      "outputs": [],
      "source": [
        "#Use list slicing to divide the optional items\n",
        "optional_item_list = item_list[3:6]"
      ]
    },
    {
      "cell_type": "code",
      "execution_count": null,
      "metadata": {
        "colab": {
          "base_uri": "https://localhost:8080/"
        },
        "id": "xsVv1_msVE1_",
        "outputId": "d0126bbc-48a7-464d-ffc8-6fba129509db"
      },
      "outputs": [
        {
          "name": "stdout",
          "output_type": "stream",
          "text": [
            "['laptop', 'headset', 'second monitor']\n",
            "['mousepad', 'usb drive', 'external drive']\n"
          ]
        }
      ],
      "source": [
        "#Print both to the screen\n",
        "print(mandatory_item_list)\n",
        "print(optional_item_list)"
      ]
    },
    {
      "cell_type": "markdown",
      "metadata": {
        "id": "s_M1Q93wp-D3"
      },
      "source": [
        "#### Go Shopping\n",
        "Next, you will have to go and purchase these items, the finance department confirmed a budget of $5000.\n",
        "\n",
        "📌 Assign 5000 to a variable called limit, so you know how much you can spend."
      ]
    },
    {
      "cell_type": "code",
      "execution_count": null,
      "metadata": {
        "id": "nCmpm0oqp-D3"
      },
      "outputs": [],
      "source": [
        "#Assign the spending limit value to a variable called limit\n",
        "limit = 5000"
      ]
    },
    {
      "cell_type": "markdown",
      "metadata": {
        "id": "VwbEEymVp-D3"
      },
      "source": [
        "####Price dictionary\n",
        "\n",
        "Before you start shopping yo need to find the best items that you can buy within the company budget. \n",
        "\n",
        "📌 Prepare a dictionary called “price_sheet” that includes the items as keys and the prices as values.  \n",
        " "
      ]
    },
    {
      "cell_type": "code",
      "execution_count": null,
      "metadata": {
        "id": "9o9n9Ag-p-D3"
      },
      "outputs": [],
      "source": [
        "#Create a dictionary that contains each item and its price\n",
        "price_sheet = {\n",
        "    'laptop':1500,\n",
        "    'headset': 100,\n",
        "    'second monitor': 200,\n",
        "    'mousepad': 50,\n",
        "    'usb drive': 70,\n",
        "    'external drive': 250\n",
        "}\n"
      ]
    },
    {
      "cell_type": "markdown",
      "metadata": {
        "id": "rUYivBVEBhCv"
      },
      "source": [
        "####Shopping functions\n",
        "\n",
        "You need to define three functions that will help you during shopping.\n",
        "\n",
        "📌 First, create an empty list that  will be your shopping cart. Here you will add the items you need to purchase.\n",
        "\n",
        "1. Define a function for both adding items to the cart and removing them from the item_list.\n",
        "\n",
        "📌 The \"add_to_cart\" function should take the item name and the quantity to buy as an argument. \n",
        "\n",
        "2. Define a function that will create an invoice. \n",
        "\n",
        "📌 The \"create_invoice\" function should calculate the taxes of each item (18%) and add it to the total amount.\n",
        "\n",
        "3. Define a function for the checkout. \n",
        "\n",
        "📌 The \"checkout\" function should subtract the total amount from the budget and print a statement to inform if the payment was successful. "
      ]
    },
    {
      "cell_type": "code",
      "execution_count": null,
      "metadata": {
        "id": "dBNZ2ZdkGHUe"
      },
      "outputs": [],
      "source": [
        "#Initialize the cart list\n",
        "cart = []"
      ]
    },
    {
      "cell_type": "code",
      "execution_count": null,
      "metadata": {
        "id": "HH26hHHFGKPJ"
      },
      "outputs": [],
      "source": [
        "#Define the \"add_to_cart\" function\n",
        "def add_to_cart(item, quantity):\n",
        "  cart.append((item,quantity))\n",
        "  item_list.remove(item)"
      ]
    },
    {
      "cell_type": "code",
      "execution_count": null,
      "metadata": {
        "id": "TUmNr4xVGQdm"
      },
      "outputs": [],
      "source": [
        "#Define the \"create_invoice\" function\n",
        "def create_invoice():\n",
        "  total_amount_inc_tax = 0\n",
        "  for item, quantity in create_invoice:\n",
        "    price = price_sheet[item]\n",
        "    tax = 0.18 * price\n",
        "    total = (tax + price) * quantity\n",
        "    total_amount_inc_tax += total\n",
        "    print('Item:', item, '\\t', 'Price:', price, '\\t', 'Quantity:', quantity, '\\t', 'Tax:', tax, '\\t', 'Total:', total, '\\n')\n",
        "  \n",
        "  print(\"After the taxes are applied the total amount is:\", '\\t', total_amount_inc_tax)\n",
        "  return total_amount_inc_tax"
      ]
    },
    {
      "cell_type": "code",
      "execution_count": null,
      "metadata": {
        "colab": {
          "background_save": true
        },
        "id": "iUlKiXgMGdIk"
      },
      "outputs": [],
      "source": [
        "#Define the \"checkout\" function\n",
        "def checkout():\n",
        "  global limit\n",
        "  total_amount = create_invoice()\n",
        "  if limit == 0:\n",
        "    print(\"You don't have any budget\")\n",
        "  elif total_amount > limit:\n",
        "    print(\"The amount you have to pay is above the spending limit. You have to drop some items.\")\n",
        "  else:\n",
        "    limit -= total_amount\n",
        "    print(f\"The total amount (incl. taxes) you've pad is {total_amount}. You have {limit} dollars left.\")"
      ]
    },
    {
      "cell_type": "markdown",
      "metadata": {
        "id": "2IFUlu0yB0In"
      },
      "source": [
        "Let's shop!"
      ]
    },
    {
      "cell_type": "code",
      "execution_count": null,
      "metadata": {
        "colab": {
          "base_uri": "https://localhost:8080/",
          "height": 321
        },
        "id": "FDO7CRJTWPg7",
        "outputId": "470403d2-c116-4166-822d-f19f39be452e"
      },
      "outputs": [
        {
          "ename": "NameError",
          "evalue": "ignored",
          "output_type": "error",
          "traceback": [
            "\u001b[0;31m---------------------------------------------------------------------------\u001b[0m",
            "\u001b[0;31mNameError\u001b[0m                                 Traceback (most recent call last)",
            "\u001b[0;32m<ipython-input-15-229653028ac7>\u001b[0m in \u001b[0;36m<module>\u001b[0;34m()\u001b[0m\n\u001b[1;32m      2\u001b[0m \u001b[0;34m\u001b[0m\u001b[0m\n\u001b[1;32m      3\u001b[0m \u001b[0;31m#Add first item to cart\u001b[0m\u001b[0;34m\u001b[0m\u001b[0;34m\u001b[0m\u001b[0;34m\u001b[0m\u001b[0m\n\u001b[0;32m----> 4\u001b[0;31m \u001b[0madd_to_cart\u001b[0m\u001b[0;34m(\u001b[0m\u001b[0;34m\"Laptop\"\u001b[0m\u001b[0;34m,\u001b[0m \u001b[0;36m1\u001b[0m\u001b[0;34m)\u001b[0m\u001b[0;34m\u001b[0m\u001b[0;34m\u001b[0m\u001b[0m\n\u001b[0m\u001b[1;32m      5\u001b[0m \u001b[0;34m\u001b[0m\u001b[0m\n\u001b[1;32m      6\u001b[0m \u001b[0;31m#Add second item to cart\u001b[0m\u001b[0;34m\u001b[0m\u001b[0;34m\u001b[0m\u001b[0;34m\u001b[0m\u001b[0m\n",
            "\u001b[0;32m<ipython-input-12-d8264693acf1>\u001b[0m in \u001b[0;36madd_to_cart\u001b[0;34m(item, quantity)\u001b[0m\n\u001b[1;32m      2\u001b[0m \u001b[0;32mdef\u001b[0m \u001b[0madd_to_cart\u001b[0m\u001b[0;34m(\u001b[0m\u001b[0mitem\u001b[0m\u001b[0;34m,\u001b[0m \u001b[0mquantity\u001b[0m\u001b[0;34m)\u001b[0m\u001b[0;34m:\u001b[0m\u001b[0;34m\u001b[0m\u001b[0;34m\u001b[0m\u001b[0m\n\u001b[1;32m      3\u001b[0m   \u001b[0mcart\u001b[0m\u001b[0;34m.\u001b[0m\u001b[0mappend\u001b[0m\u001b[0;34m(\u001b[0m\u001b[0;34m(\u001b[0m\u001b[0mitem\u001b[0m\u001b[0;34m,\u001b[0m\u001b[0mquantity\u001b[0m\u001b[0;34m)\u001b[0m\u001b[0;34m)\u001b[0m\u001b[0;34m\u001b[0m\u001b[0;34m\u001b[0m\u001b[0m\n\u001b[0;32m----> 4\u001b[0;31m   \u001b[0mitem_list\u001b[0m\u001b[0;34m.\u001b[0m\u001b[0mremove\u001b[0m\u001b[0;34m(\u001b[0m\u001b[0mitem\u001b[0m\u001b[0;34m)\u001b[0m\u001b[0;34m\u001b[0m\u001b[0;34m\u001b[0m\u001b[0m\n\u001b[0m",
            "\u001b[0;31mNameError\u001b[0m: name 'item_list' is not defined"
          ]
        }
      ],
      "source": [
        "#Call the \"add_to_cart\" function for each item\n",
        " \n",
        "#Add first item to cart\n",
        "add_to_cart(\"Laptop\", 1)\n",
        " \n",
        "#Add second item to cart\n",
        "add_to_cart(\"Headset\", 8)\n",
        " \n",
        "#Add third item to cart\n",
        "add_to_cart(\"Second monitor\", 1)\n",
        " \n",
        "#Add fourth item to cart\n",
        "add_to_cart(\"Mousepad\", 1)\n",
        " \n",
        "#Add fifth item to cart\n",
        "add_to_cart(\"USB drive\", 2)\n",
        " \n",
        "#Add last item to cart\n",
        "add_to_cart(\"External drive\", 4)\n",
        " \n",
        "#Call the create \"checkout\" function to pay for all your items \n",
        "checkout()"
      ]
    },
    {
      "cell_type": "markdown",
      "metadata": {
        "id": "ZL-r2x_xKixg"
      },
      "source": [
        "###Game Night\n",
        "\n",
        "You are back at the office and the HR department organizes a welcome party for new employees. \n",
        "\n",
        "You decide to create a Rock-Paper-Scissor game. \n",
        "\n",
        "📌 Create a Rock-Paper-Scissor game in which the user plays against the computer. The player will choose one of the actions, and the computer will choose its action randomly.\n"
      ]
    },
    {
      "cell_type": "code",
      "execution_count": null,
      "metadata": {
        "id": "qzD5pxBTgcFb"
      },
      "outputs": [],
      "source": [
        "#Import the random library\n",
        "import random"
      ]
    },
    {
      "cell_type": "code",
      "execution_count": null,
      "metadata": {
        "id": "oJv-ihLAgcRo"
      },
      "outputs": [],
      "source": [
        "#create a list containing the three actions of the game.\n",
        "action_list = ['rock', 'paper', 'scissors']"
      ]
    },
    {
      "cell_type": "code",
      "execution_count": null,
      "metadata": {
        "id": "DNUa_9afWqMd",
        "colab": {
          "base_uri": "https://localhost:8080/"
        },
        "outputId": "88a871d0-362e-4ac4-e47a-a70bb1c14e21"
      },
      "outputs": [
        {
          "output_type": "stream",
          "name": "stdout",
          "text": [
            "how many rounds do you want to play? please enter a number here: 2\n",
            "round number: 1\n",
            "please choose your action:1\n",
            "computer: rock\n",
            "player: 1\n",
            "computer won\n",
            "round number: 2\n",
            "please choose your action:3\n",
            "computer: rock\n",
            "player: 3\n",
            "computer won\n",
            "computer won 2 : 0\n"
          ]
        }
      ],
      "source": [
        "#Set the scores of players to 0\n",
        "computer_score = 0\n",
        "player_score = 0\n",
        "\n",
        "#Ask the user how many rounds they want to play\n",
        "total_rounds = input(\"how many rounds do you want to play? please enter a number here: \")\n",
        "\n",
        "#Add a round_counter that is 0 at the beginning\n",
        "round_counter = 0\n",
        "\n",
        "#Write a while loop and put the game inside\n",
        "while True:\n",
        "\n",
        "  #Increase round_counter by and print it\n",
        "  round_counter += 1\n",
        "  print(\"round number:\", round_counter)\n",
        "\n",
        "  #Select a random action for computer\n",
        "  computer_choice = random.choice(action_list)\n",
        "\n",
        "  #Ask player to choose an action\n",
        "  player_choice = input(\"please choose your action:\")\n",
        "\n",
        "  #Print the players choices\n",
        "  print(\"computer:\", computer_choice)\n",
        "  print(\"player:\", player_choice)\n",
        "\n",
        "  #tie condition\n",
        "  if computer_choice == player_choice:\n",
        "    print(\"tie\")\n",
        "   \n",
        "  #Remaining conditions\n",
        "  elif computer_choice == 'paper':\n",
        "    if player_choice == 'rock':\n",
        "      print(\"computer won\")\n",
        "      computer_score += 1\n",
        "    else:\n",
        "      print(\"player won\")\n",
        "      player_score += 1\n",
        "\n",
        "  elif computer_choice == 'rock':\n",
        "    if player_choice == 'paper':\n",
        "      print(\"player won\")\n",
        "      player_score += 1\n",
        "    else:\n",
        "      print(\"computer won\")\n",
        "      computer_score += 1\n",
        "  \n",
        "  elif computer_choice == 'scissors':\n",
        "    if player_choice == 'paper':\n",
        "      print(\"computer won\")\n",
        "      computer_score += 1\n",
        "    else:\n",
        "      print(\"player won\")\n",
        "      player_score += 1\n",
        "\n",
        "  #Stop the while loop if the round_counter equals the number of total rounds\n",
        "  if round_counter == int(total_rounds):\n",
        "    break\n",
        "\n",
        "#Print the outcome of the game by using conditional statements\n",
        "if computer_score == player_score:\n",
        "  print(\"tie\", computer_score, \":\", player_score)\n",
        "elif computer_score > player_score:\n",
        "  print(\"computer won\", computer_score, \":\", player_score)\n",
        "elif computer_score < player_score:\n",
        "  print(\"player won\", computer_score, \":\", player_score)"
      ]
    },
    {
      "cell_type": "markdown",
      "metadata": {
        "id": "jdrYN0Xgp-D6"
      },
      "source": [
        "# Your first task \n",
        "\n",
        "Rachel asks you to write a program to track the name and revenue each employee brings.  \n",
        "\n",
        "* Create the \"salesperson_revenue\" dictionary to see the employee name as a key and the revenue as a value.\n",
        "\n",
        "  📌 Every employee starts with 0 revenue.\n",
        "* Define the \"enter_revenue\" function. \n",
        "\n",
        "  📌 The function takes the name and revenue as an argument and updates the salesperson_revenue dictionary.\n"
      ]
    },
    {
      "cell_type": "code",
      "execution_count": null,
      "metadata": {
        "id": "3vzRo7hyMRv2"
      },
      "outputs": [],
      "source": [
        "#Create salesperson_revenue dictionary\n",
        "salesperson_revenue = {\n",
        "    \"ben\": 0,\n",
        "    \"karen\": 0,\n",
        "    \"celine\": 0,\n",
        "    \"sue\": 0\n",
        "}\n"
      ]
    },
    {
      "cell_type": "code",
      "execution_count": null,
      "metadata": {
        "id": "m-8IozBwMRzM"
      },
      "outputs": [],
      "source": [
        "#Define enter_revenue function\n",
        "def enter_revenue(name, revenue):\n",
        "  global salesperson_revenue\n",
        "  salesperson_revenue[name] += revenue\n"
      ]
    },
    {
      "cell_type": "markdown",
      "metadata": {
        "id": "UnTGSoNTi58u"
      },
      "source": [
        "####Try out the functions\n",
        "* In a while loop ask the user to give the name of the employee and for the revenue \n",
        "\n",
        "  📌 If the user enters “quit” the loop should break.\n",
        "\n",
        "After that, print out the salesperson_revenue dictionary.\n"
      ]
    },
    {
      "cell_type": "code",
      "execution_count": null,
      "metadata": {
        "id": "2E549VvFXNi6",
        "colab": {
          "base_uri": "https://localhost:8080/"
        },
        "outputId": "1000608c-a336-49e0-8751-617de7818bb3"
      },
      "outputs": [
        {
          "name": "stdout",
          "output_type": "stream",
          "text": [
            "employee name:ben\n",
            "enter revenue:10\n",
            "ben's revenue is 20\n",
            "employee name:karen\n",
            "enter revenue:34\n",
            "karen's revenue is 34\n",
            "employee name:celine\n",
            "enter revenue:94\n",
            "celine's revenue is 94\n",
            "employee name:sue\n",
            "enter revenue:23\n",
            "sue's revenue is 53\n",
            "employee name:quit\n"
          ]
        }
      ],
      "source": [
        "#Asking user employee name as input\n",
        "while True:\n",
        "  name = input(\"employee name:\")\n",
        "  if name == \"quit\":\n",
        "    break\n",
        "  revenue = int(input(\"enter revenue:\"))\n",
        "  enter_revenue(name, revenue)\n",
        "  print(f\"{name}'s revenue is {salesperson_revenue[name]}\")"
      ]
    },
    {
      "cell_type": "code",
      "execution_count": null,
      "metadata": {
        "id": "OAvl9rgOXPe6",
        "colab": {
          "base_uri": "https://localhost:8080/"
        },
        "outputId": "a8fb4427-6225-4ca2-e470-87f7b415a22f"
      },
      "outputs": [
        {
          "output_type": "stream",
          "name": "stdout",
          "text": [
            "{'ben': 20, 'karen': 34, 'celine': 94, 'sue': 53}\n"
          ]
        }
      ],
      "source": [
        "#Print the salesperson_revenue dictionary\n",
        "print(salesperson_revenue)"
      ]
    }
  ],
  "metadata": {
    "colab": {
      "collapsed_sections": [],
      "name": "AI-Business-1.ipynb",
      "provenance": []
    },
    "interpreter": {
      "hash": "c5914ae3790566b9cd0e984a9bdda42a29da8adf046b5ac0173e0d37aacf3dab"
    },
    "kernelspec": {
      "display_name": "Python 3.9.7",
      "language": "python",
      "name": "python3"
    },
    "language_info": {
      "codemirror_mode": {
        "name": "ipython",
        "version": 3
      },
      "file_extension": ".py",
      "mimetype": "text/x-python",
      "name": "python",
      "nbconvert_exporter": "python",
      "pygments_lexer": "ipython3",
      "version": "3.9.7"
    }
  },
  "nbformat": 4,
  "nbformat_minor": 0
}
